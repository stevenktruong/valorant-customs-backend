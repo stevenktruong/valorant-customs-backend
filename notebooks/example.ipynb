{
 "cells": [
  {
   "cell_type": "code",
   "execution_count": null,
   "metadata": {},
   "outputs": [],
   "source": [
    "# Load data into matches variable\n",
    "\n",
    "import os\n",
    "\n",
    "if os.getcwd().split(\"/\")[-1] == \"notebooks\":\n",
    "    os.chdir(\"..\")\n",
    "\n",
    "from data_providers import get_matches\n",
    "\n",
    "matches = get_matches()"
   ]
  },
  {
   "cell_type": "code",
   "execution_count": null,
   "metadata": {},
   "outputs": [],
   "source": [
    "# Count number of games I won from in the 90 day block ending on 10-22-2023\n",
    "\n",
    "from datetime import datetime, timedelta, time\n",
    "from pytz import timezone\n",
    "from constants import PlayerName\n",
    "\n",
    "last_date = datetime.combine(\n",
    "    datetime(2023, 10, 22), time.max, tzinfo=timezone(\"US/Pacific\")\n",
    ")\n",
    "start_date = last_date - timedelta(days=90)\n",
    "\n",
    "relevant_matches = [\n",
    "    match for match in matches if match.time > start_date and match.time < last_date\n",
    "]\n",
    "sum([match.player_did_win(PlayerName.STEVEN) for match in relevant_matches])"
   ]
  },
  {
   "cell_type": "code",
   "execution_count": null,
   "metadata": {},
   "outputs": [],
   "source": [
    "# Plot player positions when the spike is planted\n",
    "\n",
    "import matplotlib.pyplot as plt\n",
    "import matplotlib.image as mpimg\n",
    "import matplotlib.markers\n",
    "import numpy as np\n",
    "from util import transform_coordinates\n",
    "from constants import *\n",
    "\n",
    "match = matches[-2]\n",
    "round = match.rounds[0]\n",
    "if round.plant:\n",
    "    locations = np.array(\n",
    "        [\n",
    "            transform_coordinates(location, match.map, 1000)\n",
    "            for location in round.plant.player_locations.values()\n",
    "        ]\n",
    "    )\n",
    "\n",
    "    plt.imshow(mpimg.imread(f\"assets/{match.map.lower()}.png\"))\n",
    "    plt.scatter(\n",
    "        locations[:, 0],\n",
    "        locations[:, 1],\n",
    "        marker=matplotlib.markers.MarkerStyle(\"x\"),\n",
    "        color=\"red\",\n",
    "        s=10,\n",
    "    )\n",
    "    plt.show()"
   ]
  }
 ],
 "metadata": {
  "kernelspec": {
   "display_name": "env",
   "language": "python",
   "name": "python3"
  },
  "language_info": {
   "codemirror_mode": {
    "name": "ipython",
    "version": 3
   },
   "file_extension": ".py",
   "mimetype": "text/x-python",
   "name": "python",
   "nbconvert_exporter": "python",
   "pygments_lexer": "ipython3",
   "version": "3.12.0"
  }
 },
 "nbformat": 4,
 "nbformat_minor": 2
}
